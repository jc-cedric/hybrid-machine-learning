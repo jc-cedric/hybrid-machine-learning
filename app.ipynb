{
 "cells": [
  {
   "cell_type": "code",
   "execution_count": 1,
   "metadata": {},
   "outputs": [],
   "source": [
    "# importing pandas\n",
    "import pandas as pd"
   ]
  },
  {
   "cell_type": "code",
   "execution_count": 2,
   "metadata": {},
   "outputs": [
    {
     "data": {
      "text/html": [
       "<div>\n",
       "<style scoped>\n",
       "    .dataframe tbody tr th:only-of-type {\n",
       "        vertical-align: middle;\n",
       "    }\n",
       "\n",
       "    .dataframe tbody tr th {\n",
       "        vertical-align: top;\n",
       "    }\n",
       "\n",
       "    .dataframe thead th {\n",
       "        text-align: right;\n",
       "    }\n",
       "</style>\n",
       "<table border=\"1\" class=\"dataframe\">\n",
       "  <thead>\n",
       "    <tr style=\"text-align: right;\">\n",
       "      <th></th>\n",
       "      <th>Date</th>\n",
       "      <th>Adj Close</th>\n",
       "      <th>Close</th>\n",
       "      <th>High</th>\n",
       "      <th>Low</th>\n",
       "      <th>Open</th>\n",
       "      <th>Volume</th>\n",
       "    </tr>\n",
       "  </thead>\n",
       "  <tbody>\n",
       "    <tr>\n",
       "      <th>0</th>\n",
       "      <td>2023-11-02 00:00:00+00:00</td>\n",
       "      <td>176.665985</td>\n",
       "      <td>177.570007</td>\n",
       "      <td>177.779999</td>\n",
       "      <td>175.460007</td>\n",
       "      <td>175.520004</td>\n",
       "      <td>77334800</td>\n",
       "    </tr>\n",
       "    <tr>\n",
       "      <th>1</th>\n",
       "      <td>2023-11-03 00:00:00+00:00</td>\n",
       "      <td>175.750671</td>\n",
       "      <td>176.649994</td>\n",
       "      <td>176.820007</td>\n",
       "      <td>173.350006</td>\n",
       "      <td>174.240005</td>\n",
       "      <td>79763700</td>\n",
       "    </tr>\n",
       "    <tr>\n",
       "      <th>2</th>\n",
       "      <td>2023-11-06 00:00:00+00:00</td>\n",
       "      <td>178.317520</td>\n",
       "      <td>179.229996</td>\n",
       "      <td>179.429993</td>\n",
       "      <td>176.210007</td>\n",
       "      <td>176.380005</td>\n",
       "      <td>63841300</td>\n",
       "    </tr>\n",
       "    <tr>\n",
       "      <th>3</th>\n",
       "      <td>2023-11-07 00:00:00+00:00</td>\n",
       "      <td>180.894333</td>\n",
       "      <td>181.820007</td>\n",
       "      <td>182.440002</td>\n",
       "      <td>178.970001</td>\n",
       "      <td>179.179993</td>\n",
       "      <td>70530000</td>\n",
       "    </tr>\n",
       "    <tr>\n",
       "      <th>4</th>\n",
       "      <td>2023-11-08 00:00:00+00:00</td>\n",
       "      <td>181.958893</td>\n",
       "      <td>182.889999</td>\n",
       "      <td>183.449997</td>\n",
       "      <td>181.589996</td>\n",
       "      <td>182.350006</td>\n",
       "      <td>49340300</td>\n",
       "    </tr>\n",
       "  </tbody>\n",
       "</table>\n",
       "</div>"
      ],
      "text/plain": [
       "                        Date   Adj Close       Close        High         Low  \\\n",
       "0  2023-11-02 00:00:00+00:00  176.665985  177.570007  177.779999  175.460007   \n",
       "1  2023-11-03 00:00:00+00:00  175.750671  176.649994  176.820007  173.350006   \n",
       "2  2023-11-06 00:00:00+00:00  178.317520  179.229996  179.429993  176.210007   \n",
       "3  2023-11-07 00:00:00+00:00  180.894333  181.820007  182.440002  178.970001   \n",
       "4  2023-11-08 00:00:00+00:00  181.958893  182.889999  183.449997  181.589996   \n",
       "\n",
       "         Open    Volume  \n",
       "0  175.520004  77334800  \n",
       "1  174.240005  79763700  \n",
       "2  176.380005  63841300  \n",
       "3  179.179993  70530000  \n",
       "4  182.350006  49340300  "
      ]
     },
     "execution_count": 2,
     "metadata": {},
     "output_type": "execute_result"
    }
   ],
   "source": [
    "# importing and viewing the data\n",
    "df = pd.read_csv('./data/apple_stock_data.csv')\n",
    "df.head()"
   ]
  },
  {
   "cell_type": "code",
   "execution_count": 3,
   "metadata": {},
   "outputs": [],
   "source": [
    "# converting the date column to datetime\n",
    "df['Date'] = pd.to_datetime(df['Date'])"
   ]
  },
  {
   "cell_type": "code",
   "execution_count": 5,
   "metadata": {},
   "outputs": [
    {
     "data": {
      "text/plain": [
       "datetime64[ns, UTC]"
      ]
     },
     "execution_count": 5,
     "metadata": {},
     "output_type": "execute_result"
    }
   ],
   "source": [
    "# checking the conversion effectiveness\n",
    "df['Date'].dtype"
   ]
  },
  {
   "cell_type": "code",
   "execution_count": 6,
   "metadata": {},
   "outputs": [],
   "source": [
    "# setting the 'Date' column as the dataframe index\n",
    "df.set_index('Date', inplace=True)"
   ]
  },
  {
   "cell_type": "code",
   "execution_count": 8,
   "metadata": {},
   "outputs": [
    {
     "data": {
      "text/plain": [
       "DatetimeIndex(['2023-11-02 00:00:00+00:00', '2023-11-03 00:00:00+00:00',\n",
       "               '2023-11-06 00:00:00+00:00', '2023-11-07 00:00:00+00:00',\n",
       "               '2023-11-08 00:00:00+00:00', '2023-11-09 00:00:00+00:00',\n",
       "               '2023-11-10 00:00:00+00:00', '2023-11-13 00:00:00+00:00',\n",
       "               '2023-11-14 00:00:00+00:00', '2023-11-15 00:00:00+00:00',\n",
       "               ...\n",
       "               '2024-10-21 00:00:00+00:00', '2024-10-22 00:00:00+00:00',\n",
       "               '2024-10-23 00:00:00+00:00', '2024-10-24 00:00:00+00:00',\n",
       "               '2024-10-25 00:00:00+00:00', '2024-10-28 00:00:00+00:00',\n",
       "               '2024-10-29 00:00:00+00:00', '2024-10-30 00:00:00+00:00',\n",
       "               '2024-10-31 00:00:00+00:00', '2024-11-01 00:00:00+00:00'],\n",
       "              dtype='datetime64[ns, UTC]', name='Date', length=252, freq=None)"
      ]
     },
     "execution_count": 8,
     "metadata": {},
     "output_type": "execute_result"
    }
   ],
   "source": [
    "#checking the dataframe indexes and their type\n",
    "df.index"
   ]
  },
  {
   "cell_type": "code",
   "execution_count": 9,
   "metadata": {},
   "outputs": [],
   "source": [
    "# reducing the dataframe to the 'Close' column\n",
    "df = df[['Close']]"
   ]
  },
  {
   "cell_type": "code",
   "execution_count": 10,
   "metadata": {},
   "outputs": [
    {
     "data": {
      "text/html": [
       "<div>\n",
       "<style scoped>\n",
       "    .dataframe tbody tr th:only-of-type {\n",
       "        vertical-align: middle;\n",
       "    }\n",
       "\n",
       "    .dataframe tbody tr th {\n",
       "        vertical-align: top;\n",
       "    }\n",
       "\n",
       "    .dataframe thead th {\n",
       "        text-align: right;\n",
       "    }\n",
       "</style>\n",
       "<table border=\"1\" class=\"dataframe\">\n",
       "  <thead>\n",
       "    <tr style=\"text-align: right;\">\n",
       "      <th></th>\n",
       "      <th>Close</th>\n",
       "    </tr>\n",
       "    <tr>\n",
       "      <th>Date</th>\n",
       "      <th></th>\n",
       "    </tr>\n",
       "  </thead>\n",
       "  <tbody>\n",
       "    <tr>\n",
       "      <th>2023-11-02 00:00:00+00:00</th>\n",
       "      <td>177.570007</td>\n",
       "    </tr>\n",
       "    <tr>\n",
       "      <th>2023-11-03 00:00:00+00:00</th>\n",
       "      <td>176.649994</td>\n",
       "    </tr>\n",
       "    <tr>\n",
       "      <th>2023-11-06 00:00:00+00:00</th>\n",
       "      <td>179.229996</td>\n",
       "    </tr>\n",
       "    <tr>\n",
       "      <th>2023-11-07 00:00:00+00:00</th>\n",
       "      <td>181.820007</td>\n",
       "    </tr>\n",
       "    <tr>\n",
       "      <th>2023-11-08 00:00:00+00:00</th>\n",
       "      <td>182.889999</td>\n",
       "    </tr>\n",
       "  </tbody>\n",
       "</table>\n",
       "</div>"
      ],
      "text/plain": [
       "                                Close\n",
       "Date                                 \n",
       "2023-11-02 00:00:00+00:00  177.570007\n",
       "2023-11-03 00:00:00+00:00  176.649994\n",
       "2023-11-06 00:00:00+00:00  179.229996\n",
       "2023-11-07 00:00:00+00:00  181.820007\n",
       "2023-11-08 00:00:00+00:00  182.889999"
      ]
     },
     "execution_count": 10,
     "metadata": {},
     "output_type": "execute_result"
    }
   ],
   "source": [
    "# checking the new form of the dataframe\n",
    "df.head()"
   ]
  },
  {
   "cell_type": "markdown",
   "metadata": {},
   "source": [
    "## Choosing the Hybrid Models\n",
    "\n",
    "\n",
    "    We will be using LSTM (Long Short-Term Memory) and Linear Regression models for this task. I chose LSTM because it effectively captures sequential dependencies and patterns in time-series data, which makes it suitable for modelling stock price movements influenced by historical trends.\n",
    "\n",
    "    Linear Regression, on the other hand, is a straightforward model that captures simple linear relationships and long-term trends in data. By combining these two models into a hybrid approach, we leverage the LSTM’s ability to model complex time-dependent patterns alongside the Linear Regression’s ability to identify and follow broader trends. This combination aims to create a more balanced and accurate prediction system."
   ]
  },
  {
   "cell_type": "markdown",
   "metadata": {},
   "source": [
    "### Data normalization\n"
   ]
  },
  {
   "cell_type": "code",
   "execution_count": 11,
   "metadata": {},
   "outputs": [],
   "source": [
    "# importing required library\n",
    "from sklearn.preprocessing import MinMaxScaler"
   ]
  },
  {
   "cell_type": "code",
   "execution_count": 12,
   "metadata": {},
   "outputs": [],
   "source": [
    "# declaring and initializing the scaler\n",
    "scaler = MinMaxScaler(feature_range=(0,1))"
   ]
  },
  {
   "cell_type": "code",
   "execution_count": 13,
   "metadata": {},
   "outputs": [],
   "source": [
    "# applying the scaler to the data\n",
    "df['Close'] = scaler.fit_transform(df[['Close']])"
   ]
  },
  {
   "cell_type": "code",
   "execution_count": 14,
   "metadata": {},
   "outputs": [
    {
     "data": {
      "text/plain": [
       "Date\n",
       "2023-11-02 00:00:00+00:00    0.175853\n",
       "2023-11-03 00:00:00+00:00    0.162983\n",
       "2023-11-06 00:00:00+00:00    0.199077\n",
       "2023-11-07 00:00:00+00:00    0.235311\n",
       "2023-11-08 00:00:00+00:00    0.250280\n",
       "Name: Close, dtype: float64"
      ]
     },
     "execution_count": 14,
     "metadata": {},
     "output_type": "execute_result"
    }
   ],
   "source": [
    "# checking the result\n",
    "df['Close'].head()"
   ]
  },
  {
   "cell_type": "markdown",
   "metadata": {},
   "source": [
    "### Preparing data for LSTM"
   ]
  },
  {
   "cell_type": "markdown",
   "metadata": {},
   "source": [
    "#### Creating sequences of a defined length(e.g: 60days)\n"
   ]
  },
  {
   "cell_type": "code",
   "execution_count": 16,
   "metadata": {},
   "outputs": [],
   "source": [
    "# importing the required library\n",
    "import numpy as np"
   ]
  },
  {
   "cell_type": "code",
   "execution_count": 19,
   "metadata": {},
   "outputs": [],
   "source": [
    "def create_sequences(data, seq_length=60):\n",
    "    X, y = [], []\n",
    "    for i in range(len(data) - seq_length):\n",
    "        X.append(data[i:i+seq_length])\n",
    "        y.append(data[i+seq_length])\n",
    "    \n",
    "    return np.array(X), np.array(y)"
   ]
  },
  {
   "cell_type": "code",
   "execution_count": 20,
   "metadata": {},
   "outputs": [],
   "source": [
    "seq_length = 60\n",
    "X, y = create_sequences(df['Close'].values, seq_length)"
   ]
  },
  {
   "cell_type": "code",
   "execution_count": 21,
   "metadata": {},
   "outputs": [
    {
     "data": {
      "text/plain": [
       "array([[0.1758535 , 0.16298258, 0.19907662, ..., 0.3836038 , 0.37395072,\n",
       "        0.32232785],\n",
       "       [0.16298258, 0.19907662, 0.23531069, ..., 0.37395072, 0.32232785,\n",
       "        0.27140452],\n",
       "       [0.19907662, 0.23531069, 0.2502798 , ..., 0.32232785, 0.27140452,\n",
       "        0.30581984],\n",
       "       ...,\n",
       "       [0.5907946 , 0.62702868, 0.67585339, ..., 0.92907118, 0.956911  ,\n",
       "        0.96068834],\n",
       "       [0.62702868, 0.67585339, 0.71684399, ..., 0.956911  , 0.96068834,\n",
       "        0.9107444 ],\n",
       "       [0.67585339, 0.71684399, 0.73489091, ..., 0.96068834, 0.9107444 ,\n",
       "        0.85212657]])"
      ]
     },
     "execution_count": 21,
     "metadata": {},
     "output_type": "execute_result"
    }
   ],
   "source": [
    "X"
   ]
  },
  {
   "cell_type": "code",
   "execution_count": 22,
   "metadata": {},
   "outputs": [
    {
     "data": {
      "text/plain": [
       "array([0.27140452, 0.30581984, 0.29169009, 0.31729147, 0.3399553 ,\n",
       "       0.3414942 , 0.32624523, 0.33365987, 0.30987682, 0.28035806,\n",
       "       0.26790704, 0.26385005, 0.24216562, 0.23167317, 0.24230566,\n",
       "       0.27098484, 0.2451036 , 0.22607729, 0.2466425 , 0.22971459,\n",
       "       0.22034137, 0.2050924 , 0.14129836, 0.07162836, 0.05763844,\n",
       "       0.05595971, 0.08016223, 0.10842194, 0.11513705, 0.08575833,\n",
       "       0.11191942, 0.10660318, 0.12199219, 0.15500843, 0.19124229,\n",
       "       0.08911577, 0.10184666, 0.08184116, 0.06589266, 0.11625627,\n",
       "       0.09065467, 0.07036932, 0.05372127, 0.06505308, 0.05344163,\n",
       "       0.0640739 , 0.04826521, 0.06533294, 0.03889198, 0.14045878,\n",
       "       0.16158371, 0.10758258, 0.06127595, 0.04196978, 0.02853936,\n",
       "       0.        , 0.01175149, 0.02658078, 0.05623957, 0.06841074,\n",
       "       0.06015673, 0.11891439, 0.07456634, 0.06015673, 0.11233911,\n",
       "       0.25713495, 0.23377179, 0.24342466, 0.2481814 , 0.273783  ,\n",
       "       0.25251824, 0.29770565, 0.31379398, 0.34583104, 0.34750976,\n",
       "       0.34792944, 0.36429763, 0.38262462, 0.36233905, 0.30609969,\n",
       "       0.34946834, 0.34960838, 0.35380519, 0.36779512, 0.38122554,\n",
       "       0.4061276 , 0.41060447, 0.43186901, 0.41242302, 0.4461388 ,\n",
       "       0.39339671, 0.58967538, 0.67249595, 0.68886414, 0.66438176,\n",
       "       0.72285956, 0.68956346, 0.62506988, 0.59443212, 0.60352549,\n",
       "       0.61653623, 0.67501403, 0.68690555, 0.63822045, 0.72397878,\n",
       "       0.77322339, 0.79113048, 0.85814214, 0.87884738, 0.89087852,\n",
       "       0.95103525, 0.8753499 , 0.91689979, 0.97090092, 0.97677688,\n",
       "       0.89367667, 0.82792384, 0.8297426 , 0.82484625, 0.83953551,\n",
       "       0.74902066, 0.7343314 , 0.74090669, 0.74482385, 0.75265817,\n",
       "       0.79854512, 0.74650257, 0.76748746, 0.61933418, 0.5907946 ,\n",
       "       0.62702868, 0.67585339, 0.71684399, 0.73489091, 0.78721331,\n",
       "       0.79350874, 0.83547852, 0.85408515, 0.85184671, 0.8605204 ,\n",
       "       0.8589815 , 0.8328204 , 0.8651371 , 0.86989363, 0.88178515,\n",
       "       0.86024076, 0.90640735, 0.8953554 , 0.80819821, 0.78133757,\n",
       "       0.80274214, 0.78091789, 0.78217693, 0.77098495, 0.8066593 ,\n",
       "       0.80819821, 0.80442087, 0.71796321, 0.72453828, 0.77909913,\n",
       "       0.89353664, 0.88416341, 0.8599609 , 0.87255175, 0.85856182,\n",
       "       0.87465036, 0.87842749, 0.95131511, 0.85632359, 0.86429774,\n",
       "       0.84876891, 0.8645776 , 0.79308906, 0.85016799, 0.90290986,\n",
       "       0.8959149 , 0.87507004, 0.92753227, 0.96320663, 0.93424738,\n",
       "       0.93942359, 0.97929497, 1.        , 0.99132631, 0.91997759,\n",
       "       0.91731969, 0.92907118, 0.956911  , 0.96068834, 0.9107444 ,\n",
       "       0.85212657, 0.81015679])"
      ]
     },
     "execution_count": 22,
     "metadata": {},
     "output_type": "execute_result"
    }
   ],
   "source": [
    "y"
   ]
  },
  {
   "cell_type": "code",
   "execution_count": 23,
   "metadata": {},
   "outputs": [],
   "source": [
    "#### Splitting the sequences into training and test sets(80-20)\n",
    "train_size = int(len(X) * 0.8)\n",
    "X_train, X_test = X[:train_size], X[train_size:]\n",
    "y_train, y_test = y[:train_size], y[train_size:]"
   ]
  },
  {
   "cell_type": "markdown",
   "metadata": {},
   "source": [
    "#### Building a sequential LSTM model with layers to capture the temporal dependencies in the data"
   ]
  },
  {
   "cell_type": "code",
   "execution_count": 27,
   "metadata": {},
   "outputs": [],
   "source": [
    "# importing required library\n",
    "from tensorflow.keras import Sequential \n",
    "from tensorflow.keras.layers import LSTM, Dense"
   ]
  },
  {
   "cell_type": "code",
   "execution_count": 28,
   "metadata": {},
   "outputs": [],
   "source": [
    "lstm_model = Sequential()\n",
    "lstm_model.add(LSTM(units=50, return_sequences=True, input_shape=(X_train.shape[1], 1)))\n",
    "lstm_model.add(LSTM(units=50))\n",
    "lstm_model.add(Dense(1))"
   ]
  },
  {
   "cell_type": "code",
   "execution_count": 29,
   "metadata": {},
   "outputs": [
    {
     "name": "stdout",
     "output_type": "stream",
     "text": [
      "Epoch 1/20\n",
      "\u001b[1m5/5\u001b[0m \u001b[32m━━━━━━━━━━━━━━━━━━━━\u001b[0m\u001b[37m\u001b[0m \u001b[1m2s\u001b[0m 42ms/step - loss: 0.1932\n",
      "Epoch 2/20\n",
      "\u001b[1m5/5\u001b[0m \u001b[32m━━━━━━━━━━━━━━━━━━━━\u001b[0m\u001b[37m\u001b[0m \u001b[1m0s\u001b[0m 41ms/step - loss: 0.0275\n",
      "Epoch 3/20\n",
      "\u001b[1m5/5\u001b[0m \u001b[32m━━━━━━━━━━━━━━━━━━━━\u001b[0m\u001b[37m\u001b[0m \u001b[1m0s\u001b[0m 44ms/step - loss: 0.0267\n",
      "Epoch 4/20\n",
      "\u001b[1m5/5\u001b[0m \u001b[32m━━━━━━━━━━━━━━━━━━━━\u001b[0m\u001b[37m\u001b[0m \u001b[1m0s\u001b[0m 42ms/step - loss: 0.0216\n",
      "Epoch 5/20\n",
      "\u001b[1m5/5\u001b[0m \u001b[32m━━━━━━━━━━━━━━━━━━━━\u001b[0m\u001b[37m\u001b[0m \u001b[1m0s\u001b[0m 45ms/step - loss: 0.0195\n",
      "Epoch 6/20\n",
      "\u001b[1m5/5\u001b[0m \u001b[32m━━━━━━━━━━━━━━━━━━━━\u001b[0m\u001b[37m\u001b[0m \u001b[1m0s\u001b[0m 38ms/step - loss: 0.0141\n",
      "Epoch 7/20\n",
      "\u001b[1m5/5\u001b[0m \u001b[32m━━━━━━━━━━━━━━━━━━━━\u001b[0m\u001b[37m\u001b[0m \u001b[1m0s\u001b[0m 33ms/step - loss: 0.0122\n",
      "Epoch 8/20\n",
      "\u001b[1m5/5\u001b[0m \u001b[32m━━━━━━━━━━━━━━━━━━━━\u001b[0m\u001b[37m\u001b[0m \u001b[1m0s\u001b[0m 43ms/step - loss: 0.0118\n",
      "Epoch 9/20\n",
      "\u001b[1m5/5\u001b[0m \u001b[32m━━━━━━━━━━━━━━━━━━━━\u001b[0m\u001b[37m\u001b[0m \u001b[1m0s\u001b[0m 37ms/step - loss: 0.0116\n",
      "Epoch 10/20\n",
      "\u001b[1m5/5\u001b[0m \u001b[32m━━━━━━━━━━━━━━━━━━━━\u001b[0m\u001b[37m\u001b[0m \u001b[1m0s\u001b[0m 29ms/step - loss: 0.0121\n",
      "Epoch 11/20\n",
      "\u001b[1m5/5\u001b[0m \u001b[32m━━━━━━━━━━━━━━━━━━━━\u001b[0m\u001b[37m\u001b[0m \u001b[1m0s\u001b[0m 44ms/step - loss: 0.0105\n",
      "Epoch 12/20\n",
      "\u001b[1m5/5\u001b[0m \u001b[32m━━━━━━━━━━━━━━━━━━━━\u001b[0m\u001b[37m\u001b[0m \u001b[1m0s\u001b[0m 53ms/step - loss: 0.0104\n",
      "Epoch 13/20\n",
      "\u001b[1m5/5\u001b[0m \u001b[32m━━━━━━━━━━━━━━━━━━━━\u001b[0m\u001b[37m\u001b[0m \u001b[1m0s\u001b[0m 40ms/step - loss: 0.0107\n",
      "Epoch 14/20\n",
      "\u001b[1m5/5\u001b[0m \u001b[32m━━━━━━━━━━━━━━━━━━━━\u001b[0m\u001b[37m\u001b[0m \u001b[1m0s\u001b[0m 44ms/step - loss: 0.0087\n",
      "Epoch 15/20\n",
      "\u001b[1m5/5\u001b[0m \u001b[32m━━━━━━━━━━━━━━━━━━━━\u001b[0m\u001b[37m\u001b[0m \u001b[1m0s\u001b[0m 41ms/step - loss: 0.0089\n",
      "Epoch 16/20\n",
      "\u001b[1m5/5\u001b[0m \u001b[32m━━━━━━━━━━━━━━━━━━━━\u001b[0m\u001b[37m\u001b[0m \u001b[1m0s\u001b[0m 57ms/step - loss: 0.0080\n",
      "Epoch 17/20\n",
      "\u001b[1m5/5\u001b[0m \u001b[32m━━━━━━━━━━━━━━━━━━━━\u001b[0m\u001b[37m\u001b[0m \u001b[1m0s\u001b[0m 42ms/step - loss: 0.0085\n",
      "Epoch 18/20\n",
      "\u001b[1m5/5\u001b[0m \u001b[32m━━━━━━━━━━━━━━━━━━━━\u001b[0m\u001b[37m\u001b[0m \u001b[1m0s\u001b[0m 49ms/step - loss: 0.0084\n",
      "Epoch 19/20\n",
      "\u001b[1m5/5\u001b[0m \u001b[32m━━━━━━━━━━━━━━━━━━━━\u001b[0m\u001b[37m\u001b[0m \u001b[1m0s\u001b[0m 33ms/step - loss: 0.0073\n",
      "Epoch 20/20\n",
      "\u001b[1m5/5\u001b[0m \u001b[32m━━━━━━━━━━━━━━━━━━━━\u001b[0m\u001b[37m\u001b[0m \u001b[1m0s\u001b[0m 38ms/step - loss: 0.0079\n"
     ]
    },
    {
     "data": {
      "text/plain": [
       "<keras.src.callbacks.history.History at 0x794ddd65b590>"
      ]
     },
     "execution_count": 29,
     "metadata": {},
     "output_type": "execute_result"
    }
   ],
   "source": [
    "# compiling the model \n",
    "lstm_model.compile(optimizer='adam',loss='mean_squared_error')\n",
    "lstm_model.fit(X_train, y_train, epochs=20, batch_size=32)"
   ]
  },
  {
   "cell_type": "code",
   "execution_count": null,
   "metadata": {},
   "outputs": [],
   "source": []
  }
 ],
 "metadata": {
  "kernelspec": {
   "display_name": "base",
   "language": "python",
   "name": "python3"
  },
  "language_info": {
   "codemirror_mode": {
    "name": "ipython",
    "version": 3
   },
   "file_extension": ".py",
   "mimetype": "text/x-python",
   "name": "python",
   "nbconvert_exporter": "python",
   "pygments_lexer": "ipython3",
   "version": "3.12.7"
  }
 },
 "nbformat": 4,
 "nbformat_minor": 2
}
