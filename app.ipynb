{
 "cells": [
  {
   "cell_type": "code",
   "execution_count": 1,
   "metadata": {},
   "outputs": [],
   "source": [
    "# importing pandas\n",
    "import pandas as pd"
   ]
  },
  {
   "cell_type": "code",
   "execution_count": 2,
   "metadata": {},
   "outputs": [
    {
     "data": {
      "text/html": [
       "<div>\n",
       "<style scoped>\n",
       "    .dataframe tbody tr th:only-of-type {\n",
       "        vertical-align: middle;\n",
       "    }\n",
       "\n",
       "    .dataframe tbody tr th {\n",
       "        vertical-align: top;\n",
       "    }\n",
       "\n",
       "    .dataframe thead th {\n",
       "        text-align: right;\n",
       "    }\n",
       "</style>\n",
       "<table border=\"1\" class=\"dataframe\">\n",
       "  <thead>\n",
       "    <tr style=\"text-align: right;\">\n",
       "      <th></th>\n",
       "      <th>Date</th>\n",
       "      <th>Adj Close</th>\n",
       "      <th>Close</th>\n",
       "      <th>High</th>\n",
       "      <th>Low</th>\n",
       "      <th>Open</th>\n",
       "      <th>Volume</th>\n",
       "    </tr>\n",
       "  </thead>\n",
       "  <tbody>\n",
       "    <tr>\n",
       "      <th>0</th>\n",
       "      <td>2023-11-02 00:00:00+00:00</td>\n",
       "      <td>176.665985</td>\n",
       "      <td>177.570007</td>\n",
       "      <td>177.779999</td>\n",
       "      <td>175.460007</td>\n",
       "      <td>175.520004</td>\n",
       "      <td>77334800</td>\n",
       "    </tr>\n",
       "    <tr>\n",
       "      <th>1</th>\n",
       "      <td>2023-11-03 00:00:00+00:00</td>\n",
       "      <td>175.750671</td>\n",
       "      <td>176.649994</td>\n",
       "      <td>176.820007</td>\n",
       "      <td>173.350006</td>\n",
       "      <td>174.240005</td>\n",
       "      <td>79763700</td>\n",
       "    </tr>\n",
       "    <tr>\n",
       "      <th>2</th>\n",
       "      <td>2023-11-06 00:00:00+00:00</td>\n",
       "      <td>178.317520</td>\n",
       "      <td>179.229996</td>\n",
       "      <td>179.429993</td>\n",
       "      <td>176.210007</td>\n",
       "      <td>176.380005</td>\n",
       "      <td>63841300</td>\n",
       "    </tr>\n",
       "    <tr>\n",
       "      <th>3</th>\n",
       "      <td>2023-11-07 00:00:00+00:00</td>\n",
       "      <td>180.894333</td>\n",
       "      <td>181.820007</td>\n",
       "      <td>182.440002</td>\n",
       "      <td>178.970001</td>\n",
       "      <td>179.179993</td>\n",
       "      <td>70530000</td>\n",
       "    </tr>\n",
       "    <tr>\n",
       "      <th>4</th>\n",
       "      <td>2023-11-08 00:00:00+00:00</td>\n",
       "      <td>181.958893</td>\n",
       "      <td>182.889999</td>\n",
       "      <td>183.449997</td>\n",
       "      <td>181.589996</td>\n",
       "      <td>182.350006</td>\n",
       "      <td>49340300</td>\n",
       "    </tr>\n",
       "  </tbody>\n",
       "</table>\n",
       "</div>"
      ],
      "text/plain": [
       "                        Date   Adj Close       Close        High         Low  \\\n",
       "0  2023-11-02 00:00:00+00:00  176.665985  177.570007  177.779999  175.460007   \n",
       "1  2023-11-03 00:00:00+00:00  175.750671  176.649994  176.820007  173.350006   \n",
       "2  2023-11-06 00:00:00+00:00  178.317520  179.229996  179.429993  176.210007   \n",
       "3  2023-11-07 00:00:00+00:00  180.894333  181.820007  182.440002  178.970001   \n",
       "4  2023-11-08 00:00:00+00:00  181.958893  182.889999  183.449997  181.589996   \n",
       "\n",
       "         Open    Volume  \n",
       "0  175.520004  77334800  \n",
       "1  174.240005  79763700  \n",
       "2  176.380005  63841300  \n",
       "3  179.179993  70530000  \n",
       "4  182.350006  49340300  "
      ]
     },
     "execution_count": 2,
     "metadata": {},
     "output_type": "execute_result"
    }
   ],
   "source": [
    "# importing and viewing the data\n",
    "df = pd.read_csv('./data/apple_stock_data.csv')\n",
    "df.head()"
   ]
  },
  {
   "cell_type": "code",
   "execution_count": 3,
   "metadata": {},
   "outputs": [],
   "source": [
    "# converting the date column to datetime\n",
    "df['Date'] = pd.to_datetime(df['Date'])"
   ]
  },
  {
   "cell_type": "code",
   "execution_count": 5,
   "metadata": {},
   "outputs": [
    {
     "data": {
      "text/plain": [
       "datetime64[ns, UTC]"
      ]
     },
     "execution_count": 5,
     "metadata": {},
     "output_type": "execute_result"
    }
   ],
   "source": [
    "# checking the conversion effectiveness\n",
    "df['Date'].dtype"
   ]
  },
  {
   "cell_type": "code",
   "execution_count": 6,
   "metadata": {},
   "outputs": [],
   "source": [
    "# setting the 'Date' column as the dataframe index\n",
    "df.set_index('Date', inplace=True)"
   ]
  },
  {
   "cell_type": "code",
   "execution_count": 8,
   "metadata": {},
   "outputs": [
    {
     "data": {
      "text/plain": [
       "DatetimeIndex(['2023-11-02 00:00:00+00:00', '2023-11-03 00:00:00+00:00',\n",
       "               '2023-11-06 00:00:00+00:00', '2023-11-07 00:00:00+00:00',\n",
       "               '2023-11-08 00:00:00+00:00', '2023-11-09 00:00:00+00:00',\n",
       "               '2023-11-10 00:00:00+00:00', '2023-11-13 00:00:00+00:00',\n",
       "               '2023-11-14 00:00:00+00:00', '2023-11-15 00:00:00+00:00',\n",
       "               ...\n",
       "               '2024-10-21 00:00:00+00:00', '2024-10-22 00:00:00+00:00',\n",
       "               '2024-10-23 00:00:00+00:00', '2024-10-24 00:00:00+00:00',\n",
       "               '2024-10-25 00:00:00+00:00', '2024-10-28 00:00:00+00:00',\n",
       "               '2024-10-29 00:00:00+00:00', '2024-10-30 00:00:00+00:00',\n",
       "               '2024-10-31 00:00:00+00:00', '2024-11-01 00:00:00+00:00'],\n",
       "              dtype='datetime64[ns, UTC]', name='Date', length=252, freq=None)"
      ]
     },
     "execution_count": 8,
     "metadata": {},
     "output_type": "execute_result"
    }
   ],
   "source": [
    "#checking the dataframe indexes and their type\n",
    "df.index"
   ]
  },
  {
   "cell_type": "code",
   "execution_count": 9,
   "metadata": {},
   "outputs": [],
   "source": [
    "# reducing the dataframe to the 'Close' column\n",
    "df = df[['Close']]"
   ]
  },
  {
   "cell_type": "code",
   "execution_count": 10,
   "metadata": {},
   "outputs": [
    {
     "data": {
      "text/html": [
       "<div>\n",
       "<style scoped>\n",
       "    .dataframe tbody tr th:only-of-type {\n",
       "        vertical-align: middle;\n",
       "    }\n",
       "\n",
       "    .dataframe tbody tr th {\n",
       "        vertical-align: top;\n",
       "    }\n",
       "\n",
       "    .dataframe thead th {\n",
       "        text-align: right;\n",
       "    }\n",
       "</style>\n",
       "<table border=\"1\" class=\"dataframe\">\n",
       "  <thead>\n",
       "    <tr style=\"text-align: right;\">\n",
       "      <th></th>\n",
       "      <th>Close</th>\n",
       "    </tr>\n",
       "    <tr>\n",
       "      <th>Date</th>\n",
       "      <th></th>\n",
       "    </tr>\n",
       "  </thead>\n",
       "  <tbody>\n",
       "    <tr>\n",
       "      <th>2023-11-02 00:00:00+00:00</th>\n",
       "      <td>177.570007</td>\n",
       "    </tr>\n",
       "    <tr>\n",
       "      <th>2023-11-03 00:00:00+00:00</th>\n",
       "      <td>176.649994</td>\n",
       "    </tr>\n",
       "    <tr>\n",
       "      <th>2023-11-06 00:00:00+00:00</th>\n",
       "      <td>179.229996</td>\n",
       "    </tr>\n",
       "    <tr>\n",
       "      <th>2023-11-07 00:00:00+00:00</th>\n",
       "      <td>181.820007</td>\n",
       "    </tr>\n",
       "    <tr>\n",
       "      <th>2023-11-08 00:00:00+00:00</th>\n",
       "      <td>182.889999</td>\n",
       "    </tr>\n",
       "  </tbody>\n",
       "</table>\n",
       "</div>"
      ],
      "text/plain": [
       "                                Close\n",
       "Date                                 \n",
       "2023-11-02 00:00:00+00:00  177.570007\n",
       "2023-11-03 00:00:00+00:00  176.649994\n",
       "2023-11-06 00:00:00+00:00  179.229996\n",
       "2023-11-07 00:00:00+00:00  181.820007\n",
       "2023-11-08 00:00:00+00:00  182.889999"
      ]
     },
     "execution_count": 10,
     "metadata": {},
     "output_type": "execute_result"
    }
   ],
   "source": [
    "# checking the new form of the dataframe\n",
    "df.head()"
   ]
  },
  {
   "cell_type": "code",
   "execution_count": null,
   "metadata": {},
   "outputs": [],
   "source": []
  }
 ],
 "metadata": {
  "kernelspec": {
   "display_name": "base",
   "language": "python",
   "name": "python3"
  },
  "language_info": {
   "codemirror_mode": {
    "name": "ipython",
    "version": 3
   },
   "file_extension": ".py",
   "mimetype": "text/x-python",
   "name": "python",
   "nbconvert_exporter": "python",
   "pygments_lexer": "ipython3",
   "version": "3.12.7"
  }
 },
 "nbformat": 4,
 "nbformat_minor": 2
}
